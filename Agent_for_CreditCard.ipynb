{
  "nbformat": 4,
  "nbformat_minor": 0,
  "metadata": {
    "colab": {
      "provenance": [],
      "authorship_tag": "ABX9TyO3kXdRfJw8uqpT+K4rBWHE",
      "include_colab_link": true
    },
    "kernelspec": {
      "name": "python3",
      "display_name": "Python 3"
    },
    "language_info": {
      "name": "python"
    }
  },
  "cells": [
    {
      "cell_type": "markdown",
      "metadata": {
        "id": "view-in-github",
        "colab_type": "text"
      },
      "source": [
        "<a href=\"https://colab.research.google.com/github/junaaidjabbar/Assignment-Week-4/blob/main/Agent_for_CreditCard.ipynb\" target=\"_parent\"><img src=\"https://colab.research.google.com/assets/colab-badge.svg\" alt=\"Open In Colab\"/></a>"
      ]
    },
    {
      "cell_type": "code",
      "execution_count": 1,
      "metadata": {
        "id": "yPXrd4t1ATnt"
      },
      "outputs": [],
      "source": [
        "%%capture --no-stderr\n",
        "!pip install -q langchain_google_genai langchain_core langchain_community tavily-python langgraph"
      ]
    },
    {
      "cell_type": "code",
      "source": [
        "from typing import Annotated\n",
        "from typing_extensions import TypedDict\n",
        "\n",
        "from langchain_google_genai import ChatGoogleGenerativeAI\n",
        "from langchain_community.tools.tavily_search import TavilySearchResults\n",
        "from langchain_core.messages import HumanMessage, ToolMessage, AIMessage\n",
        "from langchain_core.messages import BaseMessage\n",
        "\n",
        "from langgraph.checkpoint.memory import MemorySaver\n",
        "from langgraph.graph import StateGraph, START, END\n",
        "from langgraph.graph.message import add_messages\n",
        "from langgraph.prebuilt import ToolNode, tools_condition\n",
        "\n",
        "from pydantic import BaseModel\n",
        "\n",
        "import os"
      ],
      "metadata": {
        "id": "2xLfHXGQB80P"
      },
      "execution_count": 36,
      "outputs": []
    },
    {
      "cell_type": "code",
      "source": [
        "from google.colab import userdata\n",
        "GEMINI_API_KEY = userdata.get('GEMINI_API_KEY')\n",
        "\n",
        "import os\n",
        "os.environ[\"TAVILY_API_KEY\"] = userdata.get('TAVILY_API_KEY')\n",
        "TAVILY_API_KEY = userdata.get('TAVILY_API_KEY')"
      ],
      "metadata": {
        "id": "Pqr-PXqfI-bN"
      },
      "execution_count": 37,
      "outputs": []
    },
    {
      "cell_type": "code",
      "source": [
        "import os\n",
        "os.environ[\"LANGCHAIN_API_KEY\"] = userdata.get('LANGCHAIN_API_KEY')\n",
        "os.environ[\"LANGCHAIN_TRACING_V2\"] = \"true\"\n",
        "os.environ[\"LANGCHAIN_PROJECT\"] = \"langchain-academy\""
      ],
      "metadata": {
        "id": "nAuC2HXeJCW_"
      },
      "execution_count": 38,
      "outputs": []
    },
    {
      "cell_type": "code",
      "source": [
        "class State(TypedDict):\n",
        "  messages: Annotated[list, add_messages]\n",
        "  human: bool"
      ],
      "metadata": {
        "id": "1TRp4QuIJJLz"
      },
      "execution_count": 39,
      "outputs": []
    },
    {
      "cell_type": "code",
      "source": [
        "class RequestAssistant(BaseModel):\n",
        "  \"\"\"Escalate the conversation to an expert. Use this if you are unable to assist directly or\n",
        "  if the user requires support beyond your permissions\"\"\"\n",
        "  request: str"
      ],
      "metadata": {
        "id": "QTCW_RoEJLhi"
      },
      "execution_count": 40,
      "outputs": []
    },
    {
      "cell_type": "code",
      "source": [
        "from langchain_google_genai import ChatGoogleGenerativeAI\n",
        "\n",
        "llm = ChatGoogleGenerativeAI(\n",
        "    model = \"gemini-1.5-flash\",\n",
        "    max_retries=2,\n",
        "    api_key = GEMINI_API_KEY\n",
        ")"
      ],
      "metadata": {
        "id": "qCrFM2xJCEsD"
      },
      "execution_count": 42,
      "outputs": []
    },
    {
      "cell_type": "code",
      "source": [
        "tool = TavilySearchResults(max_results=2)\n",
        "tools = [tool]\n",
        "llm_with_tools = llm.bind_tools(tools + [RequestAssistant])"
      ],
      "metadata": {
        "id": "KlKLAqWYJYwd"
      },
      "execution_count": 43,
      "outputs": []
    },
    {
      "cell_type": "code",
      "source": [
        "def chatbot(state: State):\n",
        "  prompt = \"\"\"\n",
        "      You are a knowledgeable and helpful credit card service agent for Bank Alfalah. For more information other than credit card you simply referred to customer our website https://www.bankalfalah.com\n",
        "\n",
        "      Here are the types of credit cards we offer:\n",
        "\n",
        "      * Bank Alfalah Mastercard: A versatile card for everyday spending.\n",
        "      * Optimus Credit Card: A premium card with exclusive benefits and rewards.\n",
        "      * Bank Alfalah VISA Platinum Credit Card: A prestigious card offering global acceptance and luxury perks.\n",
        "      * Bank Alfalah VISA Gold Credit Card: A balanced card with solid rewards and benefits.\n",
        "      * Bank Alfalah VISA Classic Credit Card: A basic card for essential spending.\n",
        "      * Bank Alfalah American Express Card: A globally recognized card with unique privileges.\n",
        "      * Bank Alfalah Ultra Cashback Card: A rewarding card that offers cashback on every purchase.\n",
        "      * Bank Alfalah VISA Corporate Card: A business card designed for corporate expenses.\n",
        "\n",
        "      Key Features and Benefits of Bank Alfalah Credit Cards:\n",
        "\n",
        "      * Global Reach and Acceptability: Use your card worldwide.\n",
        "      * Exclusive Discounts: Enjoy special offers at various merchants.\n",
        "      * Fabulous Rewards: Earn points on every purchase and redeem them for exciting rewards.\n",
        "      * SBS Instalment Plans: Break down large purchases into easy monthly installments.\n",
        "      * Cash Advance: Access cash when you need it.\n",
        "      * Balance Transfer Facility: Consolidate your debts into one easy payment.\n",
        "      * Zero Loss Liability: Stay protected against unauthorized transactions.\n",
        "      * Revolving Credit: Enjoy flexible payment options.\n",
        "      * Supplementary Cards: Add authorized users to your account.\n",
        "      * 24-Hour Customer Service: Assistance is just a call away.\n",
        "      * Bank Alfalah Tap & Pay: Convenient and secure contactless payments.\n",
        "\n",
        "      How can I assist you today? Please feel free to ask any questions about our credit cards, their features, benefits, or how to apply.\n",
        "\n",
        "      If you'd like to explore further details and apply online, you can visit the Bank Alfalah website: https://www.bankalfalah.com/personal-banking/cards/credit-cards\n",
        "  \"\"\"\n",
        "\n",
        "  messages = [HumanMessage(content=prompt)] + state[\"messages\"]\n",
        "\n",
        "  response = llm_with_tools.invoke(messages)\n",
        "  ask_human = False\n",
        "  if response.tool_calls and response.tool_calls[0][\"name\"] == RequestAssistant.__name__:\n",
        "    ask_human = True\n",
        "  return {\"messages\": [response], \"ask_human\": ask_human}"
      ],
      "metadata": {
        "id": "48S78gqKBcx2"
      },
      "execution_count": 44,
      "outputs": []
    },
    {
      "cell_type": "code",
      "source": [
        "def create_response(response: str, ai_message: AIMessage):\n",
        "  return ToolMessage(\n",
        "      content=response,\n",
        "      tool_call_id=ai_message.tool_calls[0][\"id\"]\n",
        "  )\n",
        "\n",
        "def human_node(state: State):\n",
        "  new_messages = []\n",
        "  if not isinstance(state[\"messages\"][-1], ToolMessage):\n",
        "    new_messages.append(\n",
        "        create_response(\"No response from humans.\", state[\"messages\"][-1])\n",
        "    )\n",
        "  return {\n",
        "      \"messages\": new_messages,\n",
        "      \"ask_human\": False,\n",
        "  }\n"
      ],
      "metadata": {
        "id": "k0apx2FsD4gs"
      },
      "execution_count": 61,
      "outputs": []
    },
    {
      "cell_type": "code",
      "source": [
        "def select_next_node(state: State):\n",
        "  if state[\"ask_human\"]:\n",
        "    return \"humans\"\n",
        "  return tools_condition(state)"
      ],
      "metadata": {
        "id": "VcslRkKUJ5ml"
      },
      "execution_count": 62,
      "outputs": []
    },
    {
      "cell_type": "code",
      "source": [
        "graph_builder = StateGraph(State)\n",
        "\n",
        "## Nodes\n",
        "\n",
        "graph_builder.add_node(\"chatbot\", chatbot)\n",
        "graph_builder.add_node(\"tools\", ToolNode(tools=[tool]))\n",
        "graph_builder.add_node(\"humans\", human_node)\n",
        "\n",
        "## Edges\n",
        "\n",
        "graph_builder.add_edge(START, \"chatbot\")\n",
        "graph_builder.add_edge(\"tools\", \"chatbot\")\n",
        "graph_builder.add_edge(\"humans\", \"chatbot\")\n",
        "\n",
        "graph_builder.add_conditional_edges(\n",
        "    \"chatbot\",\n",
        "    select_next_node,\n",
        "    {\"humans\": \"humans\" , \"tools\" : \"tools\", END : END},\n",
        ")\n",
        "\n",
        "memory = MemorySaver()\n",
        "\n",
        "graph = graph_builder.compile(checkpointer = memory, interrupt_before = [\"humans\"])\n",
        "\n",
        "from IPython.display import Image, display\n",
        "\n",
        "try:\n",
        "  display(Image(graph.get_graph().draw_mermaid_png()))\n",
        "except Exception:\n",
        "  pass\n"
      ],
      "metadata": {
        "colab": {
          "base_uri": "https://localhost:8080/",
          "height": 308
        },
        "id": "DVh5ONu8CUO_",
        "outputId": "a73843ae-9972-4318-8d09-0111363349d4"
      },
      "execution_count": 63,
      "outputs": [
        {
          "output_type": "display_data",
          "data": {
            "image/png": "[encoded data removed]",
            "text/plain": [
              "<IPython.core.display.Image object>"
            ]
          },
          "metadata": {}
        }
      ]
    },
    {
      "cell_type": "code",
      "source": [
        "user_input = \"I want to know about Bank Alfalah Gold credit card.\"\n",
        "config = {\"configurable\" : {\"thread_id\" : \"1\"}}\n",
        "\n",
        "events = graph.stream(\n",
        "    {\"messages\": [(\"user\", user_input)]}, config, stream_mode = \"values\"\n",
        ")\n",
        "for event in events:\n",
        "  if \"messages\" in event:\n",
        "    event[\"messages\"][-1].pretty_print()"
      ],
      "metadata": {
        "colab": {
          "base_uri": "https://localhost:8080/"
        },
        "id": "II8YYLAcBvgf",
        "outputId": "350826c3-6c0a-4490-af83-be84a956dd8f"
      },
      "execution_count": 65,
      "outputs": [
        {
          "output_type": "stream",
          "name": "stdout",
          "text": [
            "================================\u001b[1m Human Message \u001b[0m=================================\n",
            "\n",
            "I want to know about Bank Alfalah Gold credit card.\n",
            "==================================\u001b[1m Ai Message \u001b[0m==================================\n",
            "\n",
            "The Bank Alfalah VISA Gold Credit Card offers a balance of rewards and benefits.  While I don't have the exact details on current interest rates, fees, or specific reward programs (those details change), it generally provides solid rewards for your spending and is widely accepted globally.  Key features likely include:\n",
            "\n",
            "* **Global Acceptance:** Use your card for purchases worldwide.\n",
            "* **Rewards Program:** Earn points or cashback on purchases (the specifics would be on the Bank Alfalah website).\n",
            "* **Other Benefits:**  May include things like purchase protection, travel insurance (check the website for current offerings).\n",
            "\n",
            "For the most up-to-date information on interest rates, fees, rewards programs, and application details, please visit the Bank Alfalah website: https://www.bankalfalah.com/personal-banking/cards/credit-cards\n"
          ]
        }
      ]
    }
  ]
}